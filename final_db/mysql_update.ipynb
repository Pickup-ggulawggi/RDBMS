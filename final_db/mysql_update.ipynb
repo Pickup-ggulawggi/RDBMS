{
 "cells": [
  {
   "cell_type": "code",
   "execution_count": 1,
   "metadata": {},
   "outputs": [],
   "source": [
    "import mysql.connector\n",
    "import pandas as pd"
   ]
  },
  {
   "cell_type": "code",
   "execution_count": 2,
   "metadata": {},
   "outputs": [],
   "source": [
    "def connectDB(db_use):\n",
    "    my_db = mysql.connector.connect(\n",
    "        host='localhost',\n",
    "        user='root',\n",
    "        passwd='mwitness!1019',\n",
    "        database= db_use\n",
    "    )\n",
    "    my_cursor = my_db.cursor()\n",
    "    return my_db, my_cursor\n",
    "\n",
    "mydb, myCursor = connectDB(\"fifa\")"
   ]
  },
  {
   "cell_type": "code",
   "execution_count": 4,
   "metadata": {},
   "outputs": [
    {
     "name": "stdout",
     "output_type": "stream",
     "text": [
      "(0, 'Manchester City', 87, 86, 83, 85, 11)\n",
      "(1, 'Real Madrid', 85, 85, 83, 85, 30)\n",
      "(2, 'Bayern Munchen', 90, 84, 83, 84, 14)\n",
      "(3, 'FC Barcelona', 84, 84, 83, 84, 30)\n",
      "(4, 'Paris Saint-Germain', 86, 79, 83, 83, 12)\n"
     ]
    }
   ],
   "source": [
    "# test \n",
    "myCursor.execute('SELECT * FROM team;')\n",
    "result = myCursor.fetchall()\n",
    "for row in result[:5]:\n",
    "    print(row) # workwell"
   ]
  },
  {
   "cell_type": "code",
   "execution_count": 5,
   "metadata": {},
   "outputs": [
    {
     "data": {
      "text/html": [
       "<div>\n",
       "<style scoped>\n",
       "    .dataframe tbody tr th:only-of-type {\n",
       "        vertical-align: middle;\n",
       "    }\n",
       "\n",
       "    .dataframe tbody tr th {\n",
       "        vertical-align: top;\n",
       "    }\n",
       "\n",
       "    .dataframe thead th {\n",
       "        text-align: right;\n",
       "    }\n",
       "</style>\n",
       "<table border=\"1\" class=\"dataframe\">\n",
       "  <thead>\n",
       "    <tr style=\"text-align: right;\">\n",
       "      <th></th>\n",
       "      <th>id</th>\n",
       "      <th>name</th>\n",
       "      <th>league</th>\n",
       "      <th>TO BE DONE</th>\n",
       "    </tr>\n",
       "  </thead>\n",
       "  <tbody>\n",
       "    <tr>\n",
       "      <th>44</th>\n",
       "      <td>71</td>\n",
       "      <td>Be??컆ta??</td>\n",
       "      <td>Turkey Super Lig</td>\n",
       "      <td>Beşiktaş</td>\n",
       "    </tr>\n",
       "    <tr>\n",
       "      <th>66</th>\n",
       "      <td>94</td>\n",
       "      <td>NaN</td>\n",
       "      <td>94 FC Koln</td>\n",
       "      <td>FC Koln</td>\n",
       "    </tr>\n",
       "    <tr>\n",
       "      <th>65</th>\n",
       "      <td>117</td>\n",
       "      <td>NaN</td>\n",
       "      <td>177 AS Saint-Etienne</td>\n",
       "      <td>AS Saint-Etienne</td>\n",
       "    </tr>\n",
       "    <tr>\n",
       "      <th>30</th>\n",
       "      <td>134</td>\n",
       "      <td>Alav筌?툒</td>\n",
       "      <td>Spain Primera Division</td>\n",
       "      <td>Alavés</td>\n",
       "    </tr>\n",
       "    <tr>\n",
       "      <th>62</th>\n",
       "      <td>148</td>\n",
       "      <td>NaN</td>\n",
       "      <td>148 FC Kobenhavn</td>\n",
       "      <td>FC Kobenhavn</td>\n",
       "    </tr>\n",
       "  </tbody>\n",
       "</table>\n",
       "</div>"
      ],
      "text/plain": [
       "     id       name                   league        TO BE DONE\n",
       "44   71  Be??컆ta??         Turkey Super Lig          Beşiktaş\n",
       "66   94        NaN               94 FC Koln           FC Koln\n",
       "65  117        NaN     177 AS Saint-Etienne  AS Saint-Etienne\n",
       "30  134    Alav筌?툒  Spain Primera Division             Alavés\n",
       "62  148        NaN         148 FC Kobenhavn      FC Kobenhavn"
      ]
     },
     "execution_count": 5,
     "metadata": {},
     "output_type": "execute_result"
    }
   ],
   "source": [
    "to_update = pd.read_table('to_update.csv', delimiter=',', encoding='utf-8')\n",
    "to_update = to_update.sort_values(['id'])\n",
    "to_update.loc[25, 'TO BE DONE'] = 'Union'\n",
    "to_update.head()"
   ]
  },
  {
   "cell_type": "code",
   "execution_count": null,
   "metadata": {},
   "outputs": [],
   "source": [
    "for name, id in zip(to_update['TO BE DONE'], to_update['id']):\n",
    "    myCursor.execute(f\"UPDATE team SET team = '{name}' WHERE teamId = {id}\")\n",
    "    mydb.commit()"
   ]
  }
 ],
 "metadata": {
  "kernelspec": {
   "display_name": "Python 3",
   "language": "python",
   "name": "python3"
  },
  "language_info": {
   "codemirror_mode": {
    "name": "ipython",
    "version": 3
   },
   "file_extension": ".py",
   "mimetype": "text/x-python",
   "name": "python",
   "nbconvert_exporter": "python",
   "pygments_lexer": "ipython3",
   "version": "3.10.5"
  }
 },
 "nbformat": 4,
 "nbformat_minor": 2
}
